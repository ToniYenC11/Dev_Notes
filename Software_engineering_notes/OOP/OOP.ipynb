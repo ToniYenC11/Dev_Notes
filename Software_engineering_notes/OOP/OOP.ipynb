{
 "cells": [
  {
   "cell_type": "markdown",
   "metadata": {},
   "source": [
    "# OOP in Python"
   ]
  },
  {
   "cell_type": "code",
   "execution_count": 14,
   "metadata": {},
   "outputs": [],
   "source": [
    "import pandas as pd\n",
    "import os\n",
    "\n",
    "# Set the working directory to the script's directory\n",
    "os.chdir('/home/toni/Desktop/Programming_Projects/Data_Science_Projects')\n",
    "\n",
    "#& Decorators\n",
    "def my_func(a_function): #* decorator\n",
    "    def wrapper(*args,**kwargs): #* wrapper function\n",
    "        print(\"Scanning name: \")\n",
    "        return a_function(*args,**kwargs)\n",
    "    return wrapper\n",
    "\n",
    "@my_func\n",
    "def full_name(first,last): #& Actual function\n",
    "    print('{} {}'.format(first,last))"
   ]
  },
  {
   "cell_type": "code",
   "execution_count": 34,
   "metadata": {},
   "outputs": [
    {
     "data": {
      "text/html": [
       "<div>\n",
       "<style scoped>\n",
       "    .dataframe tbody tr th:only-of-type {\n",
       "        vertical-align: middle;\n",
       "    }\n",
       "\n",
       "    .dataframe tbody tr th {\n",
       "        vertical-align: top;\n",
       "    }\n",
       "\n",
       "    .dataframe thead th {\n",
       "        text-align: right;\n",
       "    }\n",
       "</style>\n",
       "<table border=\"1\" class=\"dataframe\">\n",
       "  <thead>\n",
       "    <tr style=\"text-align: right;\">\n",
       "      <th></th>\n",
       "      <th>Gender</th>\n",
       "      <th>Height</th>\n",
       "      <th>Weight</th>\n",
       "      <th>Index</th>\n",
       "    </tr>\n",
       "  </thead>\n",
       "  <tbody>\n",
       "    <tr>\n",
       "      <th>0</th>\n",
       "      <td>Male</td>\n",
       "      <td>174</td>\n",
       "      <td>96</td>\n",
       "      <td>4</td>\n",
       "    </tr>\n",
       "    <tr>\n",
       "      <th>1</th>\n",
       "      <td>Male</td>\n",
       "      <td>189</td>\n",
       "      <td>87</td>\n",
       "      <td>2</td>\n",
       "    </tr>\n",
       "    <tr>\n",
       "      <th>2</th>\n",
       "      <td>Female</td>\n",
       "      <td>185</td>\n",
       "      <td>110</td>\n",
       "      <td>4</td>\n",
       "    </tr>\n",
       "    <tr>\n",
       "      <th>3</th>\n",
       "      <td>Female</td>\n",
       "      <td>195</td>\n",
       "      <td>104</td>\n",
       "      <td>3</td>\n",
       "    </tr>\n",
       "    <tr>\n",
       "      <th>4</th>\n",
       "      <td>Male</td>\n",
       "      <td>149</td>\n",
       "      <td>61</td>\n",
       "      <td>3</td>\n",
       "    </tr>\n",
       "  </tbody>\n",
       "</table>\n",
       "</div>"
      ],
      "text/plain": [
       "   Gender  Height  Weight  Index\n",
       "0    Male     174      96      4\n",
       "1    Male     189      87      2\n",
       "2  Female     185     110      4\n",
       "3  Female     195     104      3\n",
       "4    Male     149      61      3"
      ]
     },
     "metadata": {},
     "output_type": "display_data"
    },
    {
     "name": "stdout",
     "output_type": "stream",
     "text": [
      "Showing results for Height: mean of 'bmi.csv'\n",
      "32.38260746964435\n"
     ]
    }
   ],
   "source": [
    "import numpy as np\n",
    "#* Data Science Example - Show the metric for a dataset\n",
    "bmi = pd.read_csv('Datasets/bmi.csv')\n",
    "display(bmi.head())\n",
    "\n",
    "\n",
    "stat = input('Enter the stat to be defined: ')\n",
    "col = input('Enter column name: ')\n",
    "def show_statistic(agg):\n",
    "    def wrapper(*args,**kwargs):\n",
    "        print('Showing results for {}: {} of {}'.format(col,stat,\"'bmi.csv'\"))\n",
    "        return agg(*args,**kwargs)\n",
    "    return wrapper\n",
    "@show_statistic\n",
    "def statistics(stat,col):\n",
    "    match stat:\n",
    "        case 'mean':\n",
    "            print(bmi[col].mean()) \n",
    "        case 'median':\n",
    "            print(bmi[col].median()) \n",
    "        case 'mode':\n",
    "            print(bmi[col].mode()) \n",
    "        case 'std':\n",
    "            print(bmi[col].std()) \n",
    "        case default:\n",
    "            print('aggregate function not found.')\n",
    "statistics(stat,col)\n",
    "        "
   ]
  },
  {
   "cell_type": "code",
   "execution_count": 33,
   "metadata": {},
   "outputs": [
    {
     "name": "stdout",
     "output_type": "stream",
     "text": [
      "32.38260746964435\n"
     ]
    }
   ],
   "source": [
    "print(bmi['Weight'].std())"
   ]
  },
  {
   "cell_type": "code",
   "execution_count": null,
   "metadata": {},
   "outputs": [],
   "source": [
    "            class item_price:\n",
    "                def __init__(self,name,brand):\n",
    "                    self.name = name\n",
    "                    self.brand= brand\n",
    "                @property\n",
    "                def item_info(self):\n",
    "                    return '{}-{}'.format(self.name,self.brand)\n",
    "                    \n",
    "\n",
    "                @item_info.setter\n",
    "                def item_info(self,info_name):\n",
    "                    name,brand = item_info.split('-')\n",
    "                    self.name = name\n",
    "                    self.brand = brand\n",
    "            item1 = item_price(\"TV\",\"Apple\")\n",
    "            # Change name\n",
    "            item1.brand = \"Samsung\"\n",
    "            print(item1.item_info)\n",
    "\n",
    "            item1.item_info = \"Samsung\"\n",
    "            print(item1.name)"
   ]
  },
  {
   "cell_type": "markdown",
   "metadata": {},
   "source": []
  }
 ],
 "metadata": {
  "kernelspec": {
   "display_name": "Python 3",
   "language": "python",
   "name": "python3"
  },
  "language_info": {
   "codemirror_mode": {
    "name": "ipython",
    "version": 3
   },
   "file_extension": ".py",
   "mimetype": "text/x-python",
   "name": "python",
   "nbconvert_exporter": "python",
   "pygments_lexer": "ipython3",
   "version": "3.12.5"
  }
 },
 "nbformat": 4,
 "nbformat_minor": 2
}
