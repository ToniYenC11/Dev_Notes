{
 "cells": [
  {
   "cell_type": "markdown",
   "id": "01171ec0",
   "metadata": {},
   "source": [
    "# Pillars of OOP"
   ]
  },
  {
   "cell_type": "markdown",
   "id": "4cedecfa",
   "metadata": {},
   "source": [
    "- **Abstraction** - Hide implementation details through private attributes and methods.\n",
    "\n",
    "- **Encapsulation** - Bundling data and methods together into one class.\n",
    "- **Inheritance** - Take all the methods and attributes of a Parent Class.\n",
    "- **Polymorphism** - Override existing methods with your own methods in the Child class."
   ]
  },
  {
   "cell_type": "markdown",
   "id": "4f50e7d3",
   "metadata": {},
   "source": [
    "## The `super()`\n",
    "\n",
    "- Used to call a method from the superclass\n",
    "- Below, it is used to print A, then prints B."
   ]
  },
  {
   "cell_type": "code",
   "execution_count": null,
   "id": "785998ab",
   "metadata": {},
   "outputs": [],
   "source": [
    "class A:\n",
    "    def hello(self):\n",
    "        print(\"Hello from A\")\n",
    "\n",
    "class B(A):\n",
    "    def hello(self):\n",
    "        super().hello()\n",
    "        print(\"Hello from B\")\n",
    "\n",
    "b = B()\n",
    "b.hello()\n"
   ]
  },
  {
   "cell_type": "markdown",
   "id": "1cb2b76f",
   "metadata": {},
   "source": [
    "## `isinstance()` vs `type()`"
   ]
  },
  {
   "cell_type": "markdown",
   "id": "ffed60ae",
   "metadata": {},
   "source": [
    "- `isintance()` checks for class inheritance hierarchy\n",
    "    - `isinstance` checks if the current object is a class/type of a collection of classes/types.\n",
    "\n",
    "- `type()` is strict matching the object to the supposed type."
   ]
  },
  {
   "cell_type": "markdown",
   "id": "efcb0fe4",
   "metadata": {},
   "source": [
    "# Method Resolution Order"
   ]
  },
  {
   "cell_type": "markdown",
   "id": "6debd59f",
   "metadata": {},
   "source": [
    "In Python inheritance, MRO is the order in which Python looks for a method in a hierarchy of classes. MRO follows a specific sequence to determine which method to invoke when it encounters multiple classes with the same method name."
   ]
  },
  {
   "cell_type": "code",
   "execution_count": null,
   "id": "80534e9d",
   "metadata": {},
   "outputs": [],
   "source": [
    "class A:\n",
    "    def rk(self):\n",
    "        print(\"In class A\")\n",
    "\n",
    "class B(A):\n",
    "    def rk(self):\n",
    "        super().rk()\n",
    "        print(\"In class B\")\n",
    "\n",
    "class C(A):\n",
    "    def rk(self):\n",
    "        print(\"In class C\")\n",
    "\n",
    "# classes ordering\n",
    "class D(C,B):\n",
    "    pass\n",
    "class E(B,C):\n",
    "    pass\n",
    "\n",
    "r = D()\n",
    "r.rk() # In class C\n",
    "r = E()\n",
    "r.rk() # In class B, In class C"
   ]
  },
  {
   "cell_type": "markdown",
   "id": "91f3dcf6",
   "metadata": {},
   "source": [
    "- This is an example of a **diamond inheritance**.\n",
    "\n",
    "- First `r.rk()` call invokes class D, whose order are: D > C > B > A\n",
    "    - Class C prints the \"in Class C\"\n",
    "\n",
    "    - Since class C does not obtain method from any class (i.e. it did not inherit any methods), no other function got executed.\n",
    "\n",
    "- Second call invokes E, whose order are: E > B > C > A\n",
    "    - B includes a `super()` of an rk method. Because the passed second class is C, it calls the rk of C.\n",
    "    \n",
    "    - Hence, it prints \"In class B\" and \"in class C\""
   ]
  },
  {
   "cell_type": "markdown",
   "id": "735a2919",
   "metadata": {},
   "source": [
    "- To inspect the MRO, you can use the `__mro__` attribute of a class,  which shows the order in which Python looks for methods in a hierarchy of classes."
   ]
  },
  {
   "cell_type": "code",
   "execution_count": null,
   "id": "5588ead4",
   "metadata": {},
   "outputs": [],
   "source": [
    "print(D.__mro__) #* (<class '__main__.D'>, <class '__main__.C'>, <class '__main__.B'>, <class '__main__.A'>, <class 'object'>)\n",
    "print(E.__mro__) #* (<class '__main__.E'>, <class '__main__.B'>, <class '__main__.C'>, <class '__main__.A'>, <class 'object'> )"
   ]
  },
  {
   "cell_type": "markdown",
   "id": "06122a08",
   "metadata": {},
   "source": [
    "# SOLID Principles"
   ]
  },
  {
   "cell_type": "markdown",
   "id": "49897605",
   "metadata": {},
   "source": [
    "## Single Resposibility Principle"
   ]
  },
  {
   "cell_type": "markdown",
   "id": "416db387",
   "metadata": {},
   "source": [
    "**A class should have only one reason to change.**\n",
    "\n",
    "- Each class should do one thing and do it well.\n",
    "\n",
    "- Keeps the code modular and easier to debug or extend."
   ]
  },
  {
   "cell_type": "code",
   "execution_count": null,
   "id": "0fb00ce0",
   "metadata": {},
   "outputs": [],
   "source": [
    "\n",
    "#! Incorrect\n",
    "class Report:\n",
    "    def calculate(self):\n",
    "        # Logic to calculate report data\n",
    "        pass\n",
    "    def print_report(self):\n",
    "        # Logic to print report\n",
    "        pass\n",
    "    \n",
    "#* Correct\n",
    "class ReportCalculator:\n",
    "    def calculate(self):\n",
    "        # Logic to calculate report data\n",
    "        pass\n",
    "class ReportPrinter:\n",
    "    def print_report(self, data):\n",
    "        # Logic to print\n",
    "        pass"
   ]
  },
  {
   "cell_type": "markdown",
   "id": "6f5ba84b",
   "metadata": {},
   "source": [
    "## Open/Closed Principle"
   ]
  },
  {
   "cell_type": "markdown",
   "id": "4fdf19a7",
   "metadata": {},
   "source": [
    "**Software entities should be open for extension but closed for modification.**"
   ]
  },
  {
   "cell_type": "code",
   "execution_count": null,
   "id": "b80ec7d8",
   "metadata": {},
   "outputs": [],
   "source": [
    "class Shape:\n",
    "    def area(self):\n",
    "        raise NotImplementedError()\n",
    "\n",
    "class Circle(Shape):\n",
    "    def area(self):\n",
    "        return 3.14 * self.radius ** 2 \n",
    "# Different shape, modified existing code"
   ]
  },
  {
   "cell_type": "markdown",
   "id": "440ef66d",
   "metadata": {},
   "source": [
    "## Liskov Substitution Principle (LSP)"
   ]
  },
  {
   "cell_type": "markdown",
   "id": "a3bc5ab2",
   "metadata": {},
   "source": [
    "**Objects of a superclass should be replaceable with objects of a subclass without breaking the program**\n",
    "\n",
    "- Subclasses should behave in a way that doesn’t break expectations of the base class."
   ]
  },
  {
   "cell_type": "code",
   "execution_count": null,
   "id": "e7e2a993",
   "metadata": {},
   "outputs": [],
   "source": [
    "class Bird:\n",
    "    def fly(self): pass\n",
    "\n",
    "class Ostrich(Bird):\n",
    "    def fly(self): raise Exception(\"I can't fly!\")  # Violates LSP\n",
    "\n",
    "def make_bird_fly(bird: Bird):\n",
    "    bird.fly()\n",
    "\n",
    "eagle = Bird()\n",
    "ostrich = Ostrich()\n",
    "\n",
    "make_bird_fly(eagle)    # Okay\n",
    "make_bird_fly(ostrich)  # ❌ Boom! Raises Exception!\n",
    "\n",
    "#* Although Ostrich is a Bird, it cannot be used in place of Bird without causing issues."
   ]
  },
  {
   "cell_type": "markdown",
   "id": "b4cb5df4",
   "metadata": {},
   "source": [
    "## Interface Segregation"
   ]
  },
  {
   "cell_type": "markdown",
   "id": "62e3d5e1",
   "metadata": {},
   "source": [
    "**Clients shouldn't be forced to depend on methods they don't use.**\n",
    "\n",
    "- Don't make classes implement things they don't need."
   ]
  },
  {
   "cell_type": "code",
   "execution_count": null,
   "id": "faa6b4a2",
   "metadata": {},
   "outputs": [],
   "source": [
    "\n",
    "#* Correct\n",
    "class Printable:\n",
    "    def print_doc(self): pass\n",
    "\n",
    "class Scannable:\n",
    "    def scan_doc(self): pass\n",
    "\n",
    "#! Incorrect\n",
    "class Multifunction:\n",
    "    def print_doc(self): pass\n",
    "    def scan_doc(self): pass\n",
    "    def fax_doc(self): pass  # Unnecessary for many subclasses"
   ]
  },
  {
   "cell_type": "markdown",
   "id": "7ca0a7a9",
   "metadata": {},
   "source": [
    "## Dependency Inversion"
   ]
  },
  {
   "cell_type": "markdown",
   "id": "b7a7c25c",
   "metadata": {},
   "source": [
    "**Depend on abstractions, not concretions.**\n",
    "\n",
    "- High-level modules shouldn’t depend on low-level modules directly.\n",
    "\n",
    "- Use abstraction (like interfaces or base classes) to decouple."
   ]
  },
  {
   "cell_type": "code",
   "execution_count": null,
   "id": "2b1ce5e2",
   "metadata": {},
   "outputs": [],
   "source": [
    "\n",
    "#! Without DIP\n",
    "class MySQLDatabase:\n",
    "    def connect(self): pass\n",
    "\n",
    "class App:\n",
    "    def __init__(self):\n",
    "        self.db = MySQLDatabase()  # Tightly coupled\n",
    "\n",
    "\n",
    "#* With DIP\n",
    "class Database:\n",
    "    def connect(self): pass\n",
    "\n",
    "class MySQLDatabase(Database):\n",
    "    def connect(self): pass\n",
    "\n",
    "class App:\n",
    "    def __init__(self, db: Database):\n",
    "        self.db = db  # Depends on abstraction\n"
   ]
  },
  {
   "cell_type": "markdown",
   "id": "717cc0af",
   "metadata": {},
   "source": []
  }
 ],
 "metadata": {
  "kernelspec": {
   "display_name": "Python 3",
   "language": "python",
   "name": "python3"
  },
  "language_info": {
   "name": "python",
   "version": "3.11.9"
  }
 },
 "nbformat": 4,
 "nbformat_minor": 5
}
