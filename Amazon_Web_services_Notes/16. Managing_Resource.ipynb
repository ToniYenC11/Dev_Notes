{
 "cells": [
  {
   "cell_type": "markdown",
   "id": "8182cd06",
   "metadata": {},
   "source": [
    "# AWS Organizations"
   ]
  },
  {
   "cell_type": "markdown",
   "id": "ecb313e8",
   "metadata": {},
   "source": []
  }
 ],
 "metadata": {
  "language_info": {
   "name": "python"
  }
 },
 "nbformat": 4,
 "nbformat_minor": 5
}
