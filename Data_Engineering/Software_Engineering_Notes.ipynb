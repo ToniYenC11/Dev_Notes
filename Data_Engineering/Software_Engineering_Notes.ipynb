{
 "cells": [
  {
   "cell_type": "markdown",
   "id": "81112a72",
   "metadata": {},
   "source": [
    "# Software Engineering - Important Notes"
   ]
  },
  {
   "cell_type": "markdown",
   "id": "5bef958e",
   "metadata": {},
   "source": [
    "- **[Object-Oriented Design patterns](https://www.geeksforgeeks.org/system-design/design-patterns-in-object-oriented-programming-oop/#singleton-pattern)**"
   ]
  },
  {
   "cell_type": "markdown",
   "id": "fa5b7b1f",
   "metadata": {},
   "source": []
  }
 ],
 "metadata": {
  "language_info": {
   "name": "python"
  }
 },
 "nbformat": 4,
 "nbformat_minor": 5
}
