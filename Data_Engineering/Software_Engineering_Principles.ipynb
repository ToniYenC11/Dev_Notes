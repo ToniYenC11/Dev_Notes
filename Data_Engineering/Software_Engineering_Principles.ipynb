{
 "cells": [
  {
   "cell_type": "markdown",
   "id": "de1560c9",
   "metadata": {},
   "source": [
    "# Software Engineering Principles"
   ]
  },
  {
   "cell_type": "markdown",
   "id": "e15ba84e",
   "metadata": {},
   "source": [
    "## [**PEP 8**](https://peps.python.org/pep-0008/)\n",
    "\n",
    "- Extensions in VS Code or through `pycodestyle` \n",
    "- Install also this [Auto PEP 8 Formatter](https://marketplace.visualstudio.com/items?itemName=ms-python.autopep8)"
   ]
  },
  {
   "cell_type": "markdown",
   "id": "c115aa5a",
   "metadata": {},
   "source": [
    "## Documentation"
   ]
  },
  {
   "cell_type": "markdown",
   "id": "788fb6b5",
   "metadata": {},
   "source": [
    "- Read documentation using `help()` for any package (`help(pandas)`)"
   ]
  },
  {
   "cell_type": "code",
   "execution_count": null,
   "id": "84bd0c4e",
   "metadata": {},
   "outputs": [],
   "source": [
    "import pandas as pd\n",
    "import streamlit as st\n",
    "\n",
    "display(help(pd))"
   ]
  },
  {
   "cell_type": "markdown",
   "id": "015510d1",
   "metadata": {},
   "source": [
    "## Creating Python Packages"
   ]
  },
  {
   "cell_type": "markdown",
   "id": "1b42782d",
   "metadata": {},
   "source": [
    "- Packages should have lower case names\n",
    "- Adding the functions in the `__init__.py` will allow you to import them through a `.<script>.py` easily"
   ]
  },
  {
   "cell_type": "code",
   "execution_count": null,
   "id": "7b0c5c9a",
   "metadata": {},
   "outputs": [],
   "source": [
    "# Import needed function from setuptools\n",
    "from setuptools import setup\n",
    "\n",
    "# Create proper setup to be used by pip\n",
    "setup(name='text_analyzer',\n",
    "      version='0.0.1',\n",
    "      description='Perform and visualize a text analysis.',\n",
    "      author='me',\n",
    "      packages=['text_analyzer'])\n"
   ]
  },
  {
   "cell_type": "markdown",
   "id": "d1dd051c",
   "metadata": {},
   "source": [
    "## Classes\n",
    "\n",
    "- The use of underscore `_` in front of a method defined in `__init__` is so that it will be implemented immediately upon being instantiated."
   ]
  },
  {
   "cell_type": "code",
   "execution_count": null,
   "id": "ad48e953",
   "metadata": {},
   "outputs": [],
   "source": [
    "from collections import Counter\n",
    "\n",
    "class Document:\n",
    "  def __init__(self, text):\n",
    "    self.text = text\n",
    "    # pre tokenize the document with non-public tokenize method\n",
    "    self.tokens = self._tokenize()\n",
    "    # pre tokenize the document with non-public count_words\n",
    "    self.word_counts = self._count_words()\n",
    "\n",
    "  def _tokenize(self):\n",
    "    return tokenize(self.text) # counter is defined as a separate code\n",
    "\t\n",
    "  # non-public method to tally document's word counts with Counter\n",
    "  def _count_words(self):\n",
    "    return Counter(self.tokens)\n"
   ]
  },
  {
   "cell_type": "markdown",
   "id": "d10d6e0f",
   "metadata": {},
   "source": []
  }
 ],
 "metadata": {
  "kernelspec": {
   "display_name": "AI_Projects-tfkgGnhp",
   "language": "python",
   "name": "python3"
  },
  "language_info": {
   "codemirror_mode": {
    "name": "ipython",
    "version": 3
   },
   "file_extension": ".py",
   "mimetype": "text/x-python",
   "name": "python",
   "nbconvert_exporter": "python",
   "pygments_lexer": "ipython3",
   "version": "3.13.3"
  }
 },
 "nbformat": 4,
 "nbformat_minor": 5
}
